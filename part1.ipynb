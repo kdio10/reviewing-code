{
 "cells": [
  {
   "cell_type": "markdown",
   "metadata": {},
   "source": [
    "# '학군' 이 좋으면, 부동산 가격이 높을까?\n",
    "\n",
    "## 가설\n",
    "\n",
    "학군이 좋으면, 부동산 매매 가격이 상대적으로 높을 것이다.\n",
    "\n",
    "## 정의(def)\n",
    "\n",
    "* 학군이란?\n",
    "    * 중학교에서 특수목적고로 진학하는 비율\n",
    "* 부동산 매매 가격?\n",
    "    * 아파트 거래가격"
   ]
  },
  {
   "cell_type": "markdown",
   "metadata": {},
   "source": [
    "# 1. 데이터 가져오기"
   ]
  },
  {
   "cell_type": "code",
   "execution_count": 4,
   "metadata": {},
   "outputs": [],
   "source": [
    "# 1. 원본 데이터\n",
    "import pandas as pd\n",
    "graduate_path = f'data/part1_2018년_2차_졸업생의_진로_현황(전체).xlsx'\n",
    "raw_graduate = pd.read_excel(graduate_path, sheet_name ='2018_졸업생의 진로 현황(중)')"
   ]
  },
  {
   "cell_type": "code",
   "execution_count": 5,
   "metadata": {},
   "outputs": [
    {
     "name": "stdout",
     "output_type": "stream",
     "text": [
      "data/part1_2018년_2차_졸업생의_진로_현황(전체).xlsx\n"
     ]
    }
   ],
   "source": [
    "print(graduate_path)"
   ]
  },
  {
   "cell_type": "markdown",
   "metadata": {},
   "source": [
    "# 2. 전처리\n",
    "## 2-1. 원본 데이터에서 필요한 데이터만 추출"
   ]
  },
  {
   "cell_type": "code",
   "execution_count": 11,
   "metadata": {
    "scrolled": true
   },
   "outputs": [
    {
     "data": {
      "text/plain": [
       "pandas.core.frame.DataFrame"
      ]
     },
     "execution_count": 11,
     "metadata": {},
     "output_type": "execute_result"
    }
   ],
   "source": [
    "# 2. 전처리\n",
    "# 전처리는 데이터를 분석하기전에 필요한 데이터를 수집하고, 보정하는 행위\n",
    "# 전처리는 {누락데이터}를 처리하는것이 대부분이고, 수치화(항목, 속성, 목록 ...)도 함께 함\n",
    "# ''지역', '학교명','정보공시 \\n 학교코드', '졸업자.2', '(특수목적고)과학고 진학자.2','(특수목적고)외고ㆍ국제고 진학자.2'\n",
    "type(raw_graduate)"
   ]
  },
  {
   "cell_type": "code",
   "execution_count": 17,
   "metadata": {},
   "outputs": [
    {
     "data": {
      "text/html": [
       "<div>\n",
       "<style scoped>\n",
       "    .dataframe tbody tr th:only-of-type {\n",
       "        vertical-align: middle;\n",
       "    }\n",
       "\n",
       "    .dataframe tbody tr th {\n",
       "        vertical-align: top;\n",
       "    }\n",
       "\n",
       "    .dataframe thead th {\n",
       "        text-align: right;\n",
       "    }\n",
       "</style>\n",
       "<table border=\"1\" class=\"dataframe\">\n",
       "  <thead>\n",
       "    <tr style=\"text-align: right;\">\n",
       "      <th></th>\n",
       "      <th>지역</th>\n",
       "      <th>학교명</th>\n",
       "      <th>학교코드</th>\n",
       "      <th>졸업자</th>\n",
       "      <th>과고</th>\n",
       "      <th>외고</th>\n",
       "      <th>총합</th>\n",
       "    </tr>\n",
       "  </thead>\n",
       "  <tbody>\n",
       "    <tr>\n",
       "      <th>1</th>\n",
       "      <td>서울특별시 성북구</td>\n",
       "      <td>서울대학교사범대학부설중학교</td>\n",
       "      <td>S000003514</td>\n",
       "      <td>234.0</td>\n",
       "      <td>4.0</td>\n",
       "      <td>5.0</td>\n",
       "      <td>9.0</td>\n",
       "    </tr>\n",
       "    <tr>\n",
       "      <th>2</th>\n",
       "      <td>서울특별시 종로구</td>\n",
       "      <td>서울대학교사범대학부설여자중학교</td>\n",
       "      <td>S000003562</td>\n",
       "      <td>172.0</td>\n",
       "      <td>0.0</td>\n",
       "      <td>8.0</td>\n",
       "      <td>8.0</td>\n",
       "    </tr>\n",
       "    <tr>\n",
       "      <th>3</th>\n",
       "      <td>서울특별시 강남구</td>\n",
       "      <td>개원중학교</td>\n",
       "      <td>S010000698</td>\n",
       "      <td>214.0</td>\n",
       "      <td>2.0</td>\n",
       "      <td>9.0</td>\n",
       "      <td>11.0</td>\n",
       "    </tr>\n",
       "    <tr>\n",
       "      <th>4</th>\n",
       "      <td>서울특별시 서초구</td>\n",
       "      <td>경원중학교</td>\n",
       "      <td>S010000700</td>\n",
       "      <td>310.0</td>\n",
       "      <td>5.0</td>\n",
       "      <td>4.0</td>\n",
       "      <td>9.0</td>\n",
       "    </tr>\n",
       "    <tr>\n",
       "      <th>5</th>\n",
       "      <td>서울특별시 강남구</td>\n",
       "      <td>구룡중학교</td>\n",
       "      <td>S010000701</td>\n",
       "      <td>256.0</td>\n",
       "      <td>3.0</td>\n",
       "      <td>4.0</td>\n",
       "      <td>7.0</td>\n",
       "    </tr>\n",
       "    <tr>\n",
       "      <th>...</th>\n",
       "      <td>...</td>\n",
       "      <td>...</td>\n",
       "      <td>...</td>\n",
       "      <td>...</td>\n",
       "      <td>...</td>\n",
       "      <td>...</td>\n",
       "      <td>...</td>\n",
       "    </tr>\n",
       "    <tr>\n",
       "      <th>3454</th>\n",
       "      <td>제주특별자치도 제주시</td>\n",
       "      <td>탐라중학교</td>\n",
       "      <td>S170000844</td>\n",
       "      <td>298.0</td>\n",
       "      <td>1.0</td>\n",
       "      <td>1.0</td>\n",
       "      <td>2.0</td>\n",
       "    </tr>\n",
       "    <tr>\n",
       "      <th>3455</th>\n",
       "      <td>제주특별자치도 제주시</td>\n",
       "      <td>제주영지학교</td>\n",
       "      <td>S170000512</td>\n",
       "      <td>12.0</td>\n",
       "      <td>0.0</td>\n",
       "      <td>0.0</td>\n",
       "      <td>0.0</td>\n",
       "    </tr>\n",
       "    <tr>\n",
       "      <th>3456</th>\n",
       "      <td>제주특별자치도 제주시</td>\n",
       "      <td>제주영송학교</td>\n",
       "      <td>S170000513</td>\n",
       "      <td>21.0</td>\n",
       "      <td>0.0</td>\n",
       "      <td>0.0</td>\n",
       "      <td>0.0</td>\n",
       "    </tr>\n",
       "    <tr>\n",
       "      <th>3457</th>\n",
       "      <td>제주특별자치도 서귀포시</td>\n",
       "      <td>서귀포온성학교</td>\n",
       "      <td>S170000790</td>\n",
       "      <td>9.0</td>\n",
       "      <td>0.0</td>\n",
       "      <td>0.0</td>\n",
       "      <td>0.0</td>\n",
       "    </tr>\n",
       "    <tr>\n",
       "      <th>3458</th>\n",
       "      <td>제주특별자치도 제주시</td>\n",
       "      <td>제주제일중학교부설방송통신중학교</td>\n",
       "      <td>S170000870</td>\n",
       "      <td>NaN</td>\n",
       "      <td>NaN</td>\n",
       "      <td>NaN</td>\n",
       "      <td>NaN</td>\n",
       "    </tr>\n",
       "  </tbody>\n",
       "</table>\n",
       "<p>3458 rows × 7 columns</p>\n",
       "</div>"
      ],
      "text/plain": [
       "                지역               학교명        학교코드    졸업자   과고   외고    총합\n",
       "1        서울특별시 성북구    서울대학교사범대학부설중학교  S000003514  234.0  4.0  5.0   9.0\n",
       "2        서울특별시 종로구  서울대학교사범대학부설여자중학교  S000003562  172.0  0.0  8.0   8.0\n",
       "3        서울특별시 강남구             개원중학교  S010000698  214.0  2.0  9.0  11.0\n",
       "4        서울특별시 서초구             경원중학교  S010000700  310.0  5.0  4.0   9.0\n",
       "5        서울특별시 강남구             구룡중학교  S010000701  256.0  3.0  4.0   7.0\n",
       "...            ...               ...         ...    ...  ...  ...   ...\n",
       "3454   제주특별자치도 제주시             탐라중학교  S170000844  298.0  1.0  1.0   2.0\n",
       "3455   제주특별자치도 제주시            제주영지학교  S170000512   12.0  0.0  0.0   0.0\n",
       "3456   제주특별자치도 제주시            제주영송학교  S170000513   21.0  0.0  0.0   0.0\n",
       "3457  제주특별자치도 서귀포시           서귀포온성학교  S170000790    9.0  0.0  0.0   0.0\n",
       "3458   제주특별자치도 제주시  제주제일중학교부설방송통신중학교  S170000870    NaN  NaN  NaN   NaN\n",
       "\n",
       "[3458 rows x 7 columns]"
      ]
     },
     "execution_count": 17,
     "metadata": {},
     "output_type": "execute_result"
    }
   ],
   "source": [
    "select_col = raw_graduate[['지역', '학교명','정보공시 \\n 학교코드', '졸업자.2', '(특수목적고)과학고 진학자.2','(특수목적고)외고ㆍ국제고 진학자.2']]\n",
    "select_col.columns = ['지역', '학교명', '학교코드', '졸업자', '과고', '외고']\n",
    "graduate_data = select_col.drop(0)\n",
    "graduate_data\n",
    "# 누락 데이터 검색 방법\n",
    "# 1) 졸업자 컬럼의 행을 하나씩 읽어와서 type 이 숫자가 아니면 0으로 바꾼다.\n",
    "# 2) 졸업자 컬럼의 행을 하나씩 읽어와서 숫자가 있는 행만 불러옴.\n",
    "# 3) 숫자로 변경해주는 기능이 있는가?\n",
    "\n",
    "# 2-2. 수치화\n",
    "graduate_data['졸업자'] = pd.to_numeric(graduate_data['졸업자'])\n",
    "graduate_data['과고'] = pd.to_numeric(graduate_data['과고'])\n",
    "graduate_data['외고'] = pd.to_numeric(graduate_data['외고'])\n",
    "graduate_data['총합'] = graduate_data['과고'] + graduate_data['외고']\n",
    "graduate_data"
   ]
  },
  {
   "cell_type": "code",
   "execution_count": 18,
   "metadata": {},
   "outputs": [],
   "source": [
    "# [지역] 컬럼을 기준으로 데이터를 읽어야 됩니다.\n",
    "# temp = \"서울특별시 성북구\"\n",
    "# 공백(spacce)을 기준으로 문자열을 분리\n",
    "# 서울특별시를 index = 0, 성북구를 index = 1\n",
    "#graduate_data[['시도'], ['구군']]"
   ]
  },
  {
   "cell_type": "code",
   "execution_count": 32,
   "metadata": {},
   "outputs": [
    {
     "name": "stdout",
     "output_type": "stream",
     "text": [
      "경북\n"
     ]
    }
   ],
   "source": [
    "province = \"경상북도 성북구\"\n",
    "temp = province.split(' ')\n",
    "sido = temp[0]\n",
    "if len(sido) != 4:\n",
    "        print(sido[:2])\n",
    "else:\n",
    "       print(sido[0] + sido[2])"
   ]
  },
  {
   "cell_type": "code",
   "execution_count": 34,
   "metadata": {},
   "outputs": [],
   "source": [
    "# 지역을 '시도', '구군'으로 분리\n",
    "# 입력은 \"서울특별시 성북구\" 그리고 \"경상북도\", \"경상남도\" 와 같은 시도도 입력됨\n",
    "# 처리\n",
    "# 1) 시와 구를ㄹ 나눈다. (공백으로 나눌 수 있는가?) => split\n",
    "# 2) 만약에 시를 구눕했을 때, 글자수가 4자이면 첫번째와 세번째 글자를 합쳐서 출력 => 경남 [0] + [2]\n",
    "# 3) 글자수가 4자가 아니면 앞의 두 글자만 출력 => [0:2]\n",
    "# 출력은 \"서울\" or \"경남\""
   ]
  },
  {
   "cell_type": "code",
   "execution_count": 39,
   "metadata": {},
   "outputs": [
    {
     "name": "stdout",
     "output_type": "stream",
     "text": [
      "8\n"
     ]
    }
   ],
   "source": [
    "print(len(province))"
   ]
  },
  {
   "cell_type": "code",
   "execution_count": 3,
   "metadata": {},
   "outputs": [
    {
     "ename": "NameError",
     "evalue": "name 'graduate_data' is not defined",
     "output_type": "error",
     "traceback": [
      "\u001b[1;31m---------------------------------------------------------------------------\u001b[0m",
      "\u001b[1;31mNameError\u001b[0m                                 Traceback (most recent call last)",
      "\u001b[1;32m<ipython-input-3-8304a19e0244>\u001b[0m in \u001b[0;36m<module>\u001b[1;34m\u001b[0m\n\u001b[0;32m      6\u001b[0m         \u001b[1;32mreturn\u001b[0m \u001b[0mtemp\u001b[0m\u001b[1;33m[\u001b[0m\u001b[1;36m0\u001b[0m\u001b[1;33m]\u001b[0m \u001b[1;33m+\u001b[0m \u001b[0mtemp\u001b[0m\u001b[1;33m[\u001b[0m\u001b[1;36m2\u001b[0m\u001b[1;33m]\u001b[0m\u001b[1;33m\u001b[0m\u001b[1;33m\u001b[0m\u001b[0m\n\u001b[0;32m      7\u001b[0m \u001b[1;33m\u001b[0m\u001b[0m\n\u001b[1;32m----> 8\u001b[1;33m \u001b[0mgraduate_data\u001b[0m\u001b[1;33m[\u001b[0m\u001b[1;34m'시도'\u001b[0m\u001b[1;33m]\u001b[0m \u001b[1;33m=\u001b[0m \u001b[0mgraduate_data\u001b[0m\u001b[1;33m[\u001b[0m\u001b[1;34m'지역'\u001b[0m\u001b[1;33m]\u001b[0m\u001b[1;33m.\u001b[0m\u001b[0mdropna\u001b[0m\u001b[1;33m(\u001b[0m\u001b[1;33m)\u001b[0m\u001b[1;33m.\u001b[0m\u001b[0mapply\u001b[0m\u001b[1;33m(\u001b[0m\u001b[0mget_province\u001b[0m\u001b[1;33m)\u001b[0m\u001b[1;33m\u001b[0m\u001b[1;33m\u001b[0m\u001b[0m\n\u001b[0m\u001b[0;32m      9\u001b[0m \u001b[0mgraduate_data\u001b[0m\u001b[1;33m[\u001b[0m\u001b[1;34m'구군'\u001b[0m\u001b[1;33m]\u001b[0m \u001b[1;33m=\u001b[0m \u001b[0mgraduate_data\u001b[0m\u001b[1;33m[\u001b[0m\u001b[1;34m'지역'\u001b[0m\u001b[1;33m]\u001b[0m\u001b[1;33m.\u001b[0m\u001b[0mdropna\u001b[0m\u001b[1;33m(\u001b[0m\u001b[1;33m)\u001b[0m\u001b[1;33m.\u001b[0m\u001b[0mapply\u001b[0m\u001b[1;33m(\u001b[0m\u001b[1;32mlambda\u001b[0m \u001b[0mx\u001b[0m\u001b[1;33m:\u001b[0m \u001b[0mx\u001b[0m\u001b[1;33m.\u001b[0m\u001b[0msplit\u001b[0m\u001b[1;33m(\u001b[0m\u001b[1;34m' '\u001b[0m\u001b[1;33m)\u001b[0m\u001b[1;33m[\u001b[0m\u001b[1;36m1\u001b[0m\u001b[1;33m]\u001b[0m\u001b[1;33m)\u001b[0m\u001b[1;33m\u001b[0m\u001b[1;33m\u001b[0m\u001b[0m\n\u001b[0;32m     10\u001b[0m \u001b[1;33m\u001b[0m\u001b[0m\n",
      "\u001b[1;31mNameError\u001b[0m: name 'graduate_data' is not defined"
     ]
    }
   ],
   "source": [
    "def get_province(x):\n",
    "    temp = x.split(' ')[0]\n",
    "    if len(temp) != 4:\n",
    "        return temp[:2]\n",
    "    else:\n",
    "        return temp[0] + temp[2]\n",
    "\n",
    "graduate_data['시도'] = graduate_data['지역'].dropna().apply(get_province)\n",
    "graduate_data['구군'] = graduate_data['지역'].dropna().apply(lambda x: x.split(' ')[1])\n",
    "\n",
    "# 2-2\n",
    "graduate_data['시도'].isnull().sum()\n",
    "graduate_data.index[graduate_data['시도'].isnull()]\n",
    "\n",
    "#2-3\n",
    "graduate_data.loc[588]\n",
    "graduate_data.loc[3011]\n",
    "# 신정중학교\n",
    "graduate_data.at[588,'시도'] = '부산' \n",
    "graduate_data.at[588,'구군'] = '기장군'\n",
    "# 은풍중학교\n",
    "graduate_data.at[3011,'시도'] = '경북'\n",
    "graduate_data.at[3011,'구군'] = '예천군'"
   ]
  },
  {
   "cell_type": "code",
   "execution_count": 1,
   "metadata": {},
   "outputs": [
    {
     "ename": "NameError",
     "evalue": "name 'gradu_sido' is not defined",
     "output_type": "error",
     "traceback": [
      "\u001b[1;31m---------------------------------------------------------------------------\u001b[0m",
      "\u001b[1;31mNameError\u001b[0m                                 Traceback (most recent call last)",
      "\u001b[1;32m<ipython-input-1-326d8d0f13dc>\u001b[0m in \u001b[0;36m<module>\u001b[1;34m\u001b[0m\n\u001b[0;32m     14\u001b[0m \u001b[1;31m# 5-2. 그래프 그려보기\u001b[0m\u001b[1;33m\u001b[0m\u001b[1;33m\u001b[0m\u001b[1;33m\u001b[0m\u001b[0m\n\u001b[0;32m     15\u001b[0m \u001b[0mplt\u001b[0m\u001b[1;33m.\u001b[0m\u001b[0mfigure\u001b[0m\u001b[1;33m(\u001b[0m\u001b[0mfigsize\u001b[0m\u001b[1;33m=\u001b[0m\u001b[1;33m(\u001b[0m\u001b[1;36m10\u001b[0m\u001b[1;33m,\u001b[0m \u001b[1;36m7\u001b[0m\u001b[1;33m)\u001b[0m\u001b[1;33m)\u001b[0m\u001b[1;33m\u001b[0m\u001b[1;33m\u001b[0m\u001b[0m\n\u001b[1;32m---> 16\u001b[1;33m \u001b[0mplt\u001b[0m\u001b[1;33m.\u001b[0m\u001b[0mscatter\u001b[0m\u001b[1;33m(\u001b[0m\u001b[0mgradu_sido\u001b[0m\u001b[1;33m.\u001b[0m\u001b[0mindex\u001b[0m\u001b[1;33m,\u001b[0m \u001b[0mgradu_sido\u001b[0m\u001b[1;33m[\u001b[0m\u001b[1;34m'진학률'\u001b[0m\u001b[1;33m]\u001b[0m\u001b[1;33m)\u001b[0m\u001b[1;33m\u001b[0m\u001b[1;33m\u001b[0m\u001b[0m\n\u001b[0m\u001b[0;32m     17\u001b[0m \u001b[0mplt\u001b[0m\u001b[1;33m.\u001b[0m\u001b[0mxlabel\u001b[0m\u001b[1;33m(\u001b[0m\u001b[1;34m'시도'\u001b[0m\u001b[1;33m)\u001b[0m\u001b[1;33m\u001b[0m\u001b[1;33m\u001b[0m\u001b[0m\n\u001b[0;32m     18\u001b[0m \u001b[0mplt\u001b[0m\u001b[1;33m.\u001b[0m\u001b[0mylabel\u001b[0m\u001b[1;33m(\u001b[0m\u001b[1;34m'진학률'\u001b[0m\u001b[1;33m)\u001b[0m\u001b[1;33m\u001b[0m\u001b[1;33m\u001b[0m\u001b[0m\n",
      "\u001b[1;31mNameError\u001b[0m: name 'gradu_sido' is not defined"
     ]
    },
    {
     "data": {
      "text/plain": [
       "<Figure size 720x504 with 0 Axes>"
      ]
     },
     "metadata": {},
     "output_type": "display_data"
    }
   ],
   "source": [
    "# 5-1. 그래프 준비\n",
    "import matplotlib.pyplot as plt\n",
    "from matplotlib import font_manager, rc\n",
    "from matplotlib import style\n",
    "style.use('ggplot')\n",
    "%matplotlib inline\n",
    "\n",
    "font_name = font_manager.FontProperties(fname=\"c:/Windows/Fonts/malgun.ttf\").get_name()\n",
    "rc('font', family=font_name)\n",
    "# 맥OS인 경우 위 두 줄을 입력하지 말고 아래 코드를 입력하세요\n",
    "# rc('font', family='AppleGothic')\n",
    "plt.rcParams['axes.unicode_minus'] = False\n",
    "\n",
    "# 5-2. 그래프 그려보기\n",
    "plt.figure(figsize=(10, 7))\n",
    "plt.scatter(gradu_sido.index, gradu_sido['진학률'])\n",
    "plt.xlabel('시도')\n",
    "plt.ylabel('진학률')        \n",
    "plt.show()"
   ]
  },
  {
   "cell_type": "code",
   "execution_count": 5,
   "metadata": {},
   "outputs": [
    {
     "name": "stdout",
     "output_type": "stream",
     "text": [
      "[0]\n"
     ]
    }
   ],
   "source": [
    "def fib2(n):\n",
    "  result = []\n",
    "  a, b = 0, 1\n",
    "  while a < n:\n",
    "    result.append(a)\n",
    "    a, b = b, a+b\n",
    "    return result\n",
    "\n",
    "f100 = fib2(100)\n",
    "print(f100)"
   ]
  },
  {
   "cell_type": "code",
   "execution_count": 6,
   "metadata": {},
   "outputs": [
    {
     "name": "stdout",
     "output_type": "stream",
     "text": [
      "X1:(-1.9999999999999998+3.4641016151377544j), X2:(-2-3.4641016151377544j)\n"
     ]
    }
   ],
   "source": [
    "def quadratic1(a,b,c):\n",
    "    D = ((b**2)-4*a*c)**0.5\n",
    "    X1 = (-b + D) / 2*a\n",
    "    X2 = (-b - D) / 2*a\n",
    "    print('X1:{}, X2:{}'.format(X1,X2))\n",
    "\n",
    "quadratic1(2,2,2)"
   ]
  },
  {
   "cell_type": "code",
   "execution_count": null,
   "metadata": {},
   "outputs": [],
   "source": []
  }
 ],
 "metadata": {
  "kernelspec": {
   "display_name": "Python 3",
   "language": "python",
   "name": "python3"
  },
  "language_info": {
   "codemirror_mode": {
    "name": "ipython",
    "version": 3
   },
   "file_extension": ".py",
   "mimetype": "text/x-python",
   "name": "python",
   "nbconvert_exporter": "python",
   "pygments_lexer": "ipython3",
   "version": "3.7.6"
  }
 },
 "nbformat": 4,
 "nbformat_minor": 4
}
